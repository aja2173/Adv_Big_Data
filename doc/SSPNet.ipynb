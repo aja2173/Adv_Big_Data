{
 "cells": [
  {
   "cell_type": "code",
   "execution_count": 1,
   "metadata": {},
   "outputs": [],
   "source": [
    "import pandas as pd\n",
    "import numpy as np\n",
    "import os\n",
    "\n",
    "from sklearn.ensemble import AdaBoostClassifier\n",
    "from sklearn.model_selection import train_test_split\n",
    "import matplotlib.pyplot as plt"
   ]
  },
  {
   "cell_type": "code",
   "execution_count": 2,
   "metadata": {},
   "outputs": [],
   "source": [
    "def get_stats(S):\n",
    "    max_ = S.max()\n",
    "    min_ = S.min()\n",
    "    std_ = S.std()\n",
    "    avg_ = S.mean()\n",
    "    return max_, min_, std_, avg_\n",
    "\n",
    "def get_features(df):\n",
    "    max_avP, min_avP, std_avP, avg_avP = get_stats(df.avP)\n",
    "    max_dP, min_dP, std_dP, avg_dP = get_stats(df.dP)\n",
    "    max_avI, min_avI, std_avI, avg_avI = get_stats(df.avI)\n",
    "    max_dI, min_dI, std_dI, avg_dI = get_stats(df.dI)\n",
    "    max_f1, min_f1, std_f1, avg_f1 = get_stats(df.f1)\n",
    "    max_dF1, min_dF1, std_dF1, avg_dF1 = get_stats(df.dF1)\n",
    "    max_f2, min_f2, std_f2, avg_f2 = get_stats(df.f2)\n",
    "    max_dF2, min_dF2, std_dF2, avg_dF2 = get_stats(df.dF2)\n",
    "    max_h, min_h, std_h, avg_h = get_stats(df.h)\n",
    "    return dict(id = df.id[0],\n",
    "        max_avP = max_avP, min_avP = min_avP, std_avP = std_avP, avg_avP = avg_avP,\n",
    "        max_dP = max_dP, min_dP = min_dP, std_dP = std_dP, avg_dP = avg_dP,\n",
    "        max_avI = max_avI, min_avI = min_avI, std_avI = std_avI, avg_avI = avg_avI,\n",
    "        max_dI = max_dI, min_dI = min_dI, std_dI = std_dI, avg_dI = avg_dI,\n",
    "        max_f1 = max_f1, min_f1 = min_f1, std_f1 = std_f1, avg_f1 = avg_f1,\n",
    "        max_dF1 = max_dF1, min_dF1 = min_dF1, std_dF1 = std_dF1, avg_dF1 = avg_dF1,\n",
    "        max_f2 = max_f2, min_f2 = min_f2, std_f2 = std_f2, avg_f2 = avg_f2,\n",
    "        max_dF2 = max_dF2, min_dF2 = min_dF2, std_dF2 = std_dF2, avg_dF2 = avg_dF2,\n",
    "        max_h = max_h, min_h = min_h, std_h = std_h, avg_h = avg_h)\n",
    "\n",
    "def preprocess_audio(directory):\n",
    "    all_files = os.listdir(directory)\n",
    "    data = []\n",
    "\n",
    "    for file in all_files:\n",
    "        filename = directory + file\n",
    "        df = pd.read_csv(filename, sep = '\\t')\n",
    "        df['id'] = filename[16:-4]\n",
    "        features = get_features(df)\n",
    "        data.append(features)\n",
    "\n",
    "    data = pd.DataFrame.from_dict(data)\n",
    "    cols = data.columns.tolist()\n",
    "    cols.remove('id')\n",
    "    cols = ['id'] + cols\n",
    "    data = data[cols]\n",
    "    return data"
   ]
  },
  {
   "cell_type": "code",
   "execution_count": 3,
   "metadata": {},
   "outputs": [],
   "source": [
    "def preprocess_scores(directory):\n",
    "    all_files = os.listdir(directory)\n",
    "    scores_dfs = []\n",
    "    for file in all_files:\n",
    "        filename = directory + file\n",
    "        scores = pd.read_csv(filename)\n",
    "        scores.columns = ['id', 'Ext', 'Agr', 'Con', 'Neur', 'Open']\n",
    "        ext_avg = scores.Ext.mean()\n",
    "        agr_avg = scores.Agr.mean()\n",
    "        con_avg = scores.Con.mean()\n",
    "        neur_avg = scores.Neur.mean()\n",
    "        open_avg = scores.Open.mean()\n",
    "        averages = (ext_avg, agr_avg, con_avg, neur_avg, open_avg)\n",
    "        def classify(row, averages = averages):\n",
    "            def get_class(score,avg):\n",
    "                if score > avg: return 1\n",
    "                else: return 0\n",
    "\n",
    "            ext_avg, agr_avg, con_avg, neur_avg, open_avg = averages\n",
    "            class_ext = get_class(row.Ext, ext_avg)\n",
    "            class_agr = get_class(row.Agr, agr_avg)\n",
    "            class_con = get_class(row.Con, con_avg)\n",
    "            class_neur = get_class(row.Neur, neur_avg)\n",
    "            class_open = get_class(row.Open, open_avg)\n",
    "            return (class_ext, class_agr, class_con, class_neur, class_open)\n",
    "\n",
    "        scores['Ext'], scores[\"Agr\"], scores[\"Con\"], scores[\"Neur\"], scores[\"Open\"] = zip(*scores.apply(classify,axis=1))\n",
    "        scores_dfs.append(scores)\n",
    "    ids = scores_dfs[0].id\n",
    "    scores = scores_dfs[0].drop('id',axis=1)\n",
    "    for i in range(1,len(scores_dfs)):\n",
    "        scores = scores.add(scores_dfs[i].drop('id',axis=1))\n",
    "    scores['id'] = ids\n",
    "    return scores"
   ]
  },
  {
   "cell_type": "code",
   "execution_count": 4,
   "metadata": {},
   "outputs": [],
   "source": [
    "data = preprocess_audio('../output/')\n",
    "scores = preprocess_scores('Personality_Scores/')\n",
    "df = data.merge(scores, on='id', how='left')"
   ]
  },
  {
   "cell_type": "code",
   "execution_count": 5,
   "metadata": {},
   "outputs": [],
   "source": [
    "def mkdata(df, trait_name, threshold = 1):\n",
    "    traits = ['Ext', 'Agr', 'Con', 'Neur', 'Open']\n",
    "    traits.remove(trait_name)\n",
    "    data = df.drop(traits, axis=1)\n",
    "    data = data.drop(['id'], axis=1)\n",
    "    def labelify(row):\n",
    "        if row[trait_name] > 6 + threshold: return 1\n",
    "        elif row[trait_name] < 6 - threshold: return 0\n",
    "        else: return -1\n",
    "    data[trait_name] = data.apply(labelify, axis = 1)\n",
    "    data = data[data[trait_name] >= 0]\n",
    "    data = data.rename(columns = {trait_name: 'label'})\n",
    "    return data"
   ]
  },
  {
   "cell_type": "code",
   "execution_count": 10,
   "metadata": {},
   "outputs": [],
   "source": [
    "data = mkdata(df, 'Con', 0)\n",
    "def get_score(data, get_features = 0):\n",
    "    X_train, X_test, y_train, y_test = train_test_split(data.drop('label', axis = 1), data.label, test_size=0.20, random_state=42)\n",
    "\n",
    "    model = AdaBoostClassifier()\n",
    "    model.fit(X_train, y_train)\n",
    "    if get_features:\n",
    "        return model.feature_importances\n",
    "\n",
    "    return model.score(X_test, y_test)"
   ]
  },
  {
   "cell_type": "code",
   "execution_count": 11,
   "metadata": {},
   "outputs": [
    {
     "data": {
      "image/png": "[encoded data removed]",
      "text/plain": [
       "<Figure size 432x288 with 1 Axes>"
      ]
     },
     "metadata": {},
     "output_type": "display_data"
    }
   ],
   "source": [
    "#Threshold analysis\n",
    "traits = ['Ext', 'Agr', 'Con', 'Neur', 'Open']\n",
    "for label in traits:\n",
    "    threshold_scores = []\n",
    "    for i in range(0,3):\n",
    "        data = mkdata(df,label,i)\n",
    "        threshold_scores.append(get_score(data))\n",
    "    plt.plot(threshold_scores)\n",
    "plt.title('Threshold Analysis over traits')\n",
    "plt.legend(traits)\n",
    "plt.ylabel('Validation Accuracy')\n",
    "plt.xlabel('Threshold')\n",
    "plt.show()"
   ]
  },
  {
   "cell_type": "code",
   "execution_count": 137,
   "metadata": {},
   "outputs": [
    {
     "name": "stdout",
     "output_type": "stream",
     "text": [
      "Ext 0.75\n",
      "Agr 0.6376811594202898\n",
      "Con 0.71875\n",
      "Neur 0.6527777777777778\n",
      "Open 0.8387096774193549\n"
     ]
    }
   ],
   "source": [
    "#Model accuracy\n",
    "threshold = 1\n",
    "traits = ['Ext', 'Agr', 'Con', 'Neur', 'Open']\n",
    "scores = []\n",
    "\n",
    "for label in traits:\n",
    "    data = mkdata(df,label,threshold)\n",
    "    #data=data.drop(['avg_h','min_h','max_h','std_h'],axis=1)\n",
    "    scores.append(get_score(data))\n",
    "for i, score in enumerate(scores):\n",
    "    print(traits[i], score)"
   ]
  },
  {
   "cell_type": "code",
   "execution_count": 16,
   "metadata": {},
   "outputs": [
    {
     "data": {
      "text/plain": [
       "Text(0,0.5,'coefficient')"
      ]
     },
     "execution_count": 16,
     "metadata": {},
     "output_type": "execute_result"
    },
    {
     "data": {
      "image/png": "[encoded data removed]",
      "text/plain": [
       "<Figure size 432x288 with 1 Axes>"
      ]
     },
     "metadata": {},
     "output_type": "display_data"
    }
   ],
   "source": [
    "#Feature importances\n",
    "data = mkdata(df,'Ext',1)\n",
    "#data=data.drop(['avg_h','min_h','max_h','std_h'],axis=1)\n",
    "X_train, X_test, y_train, y_test = train_test_split(data.drop('label', axis = 1), data.label, test_size=0.20, random_state=42)\n",
    "\n",
    "model = AdaBoostClassifier()\n",
    "model.fit(X_train, y_train)\n",
    "importances = model.feature_importances_\n",
    "features = list(X_train)\n",
    "for i, importance in enumerate(importances):\n",
    "    #print(features[i], importance)\n",
    "    if importance > 0.06:\n",
    "        plt.bar(features[i],importance)\n",
    "        \n",
    "plt.title(\"Feature Importances\")\n",
    "plt.xlabel(\"feature\")\n",
    "plt.ylabel('coefficient')"
   ]
  },
  {
   "cell_type": "code",
   "execution_count": 13,
   "metadata": {},
   "outputs": [
    {
     "ename": "TypeError",
     "evalue": "<lambda>() missing 1 required positional argument: 'height'",
     "output_type": "error",
     "traceback": [
      "\u001b[1;31m---------------------------------------------------------------------------\u001b[0m",
      "\u001b[1;31mTypeError\u001b[0m                                 Traceback (most recent call last)",
      "\u001b[1;32m<ipython-input-13-53adda55ffaa>\u001b[0m in \u001b[0;36m<module>\u001b[1;34m()\u001b[0m\n\u001b[1;32m----> 1\u001b[1;33m \u001b[0mplt\u001b[0m\u001b[1;33m.\u001b[0m\u001b[0mbar\u001b[0m\u001b[1;33m(\u001b[0m\u001b[0mimportances\u001b[0m\u001b[1;33m)\u001b[0m\u001b[1;33m\u001b[0m\u001b[0m\n\u001b[0m",
      "\u001b[1;32mc:\\anaconda2\\envs\\tensorflow\\lib\\site-packages\\matplotlib\\pyplot.py\u001b[0m in \u001b[0;36mbar\u001b[1;34m(*args, **kwargs)\u001b[0m\n\u001b[0;32m   2768\u001b[0m                       mplDeprecation)\n\u001b[0;32m   2769\u001b[0m     \u001b[1;32mtry\u001b[0m\u001b[1;33m:\u001b[0m\u001b[1;33m\u001b[0m\u001b[0m\n\u001b[1;32m-> 2770\u001b[1;33m         \u001b[0mret\u001b[0m \u001b[1;33m=\u001b[0m \u001b[0max\u001b[0m\u001b[1;33m.\u001b[0m\u001b[0mbar\u001b[0m\u001b[1;33m(\u001b[0m\u001b[1;33m*\u001b[0m\u001b[0margs\u001b[0m\u001b[1;33m,\u001b[0m \u001b[1;33m**\u001b[0m\u001b[0mkwargs\u001b[0m\u001b[1;33m)\u001b[0m\u001b[1;33m\u001b[0m\u001b[0m\n\u001b[0m\u001b[0;32m   2771\u001b[0m     \u001b[1;32mfinally\u001b[0m\u001b[1;33m:\u001b[0m\u001b[1;33m\u001b[0m\u001b[0m\n\u001b[0;32m   2772\u001b[0m         \u001b[0max\u001b[0m\u001b[1;33m.\u001b[0m\u001b[0m_hold\u001b[0m \u001b[1;33m=\u001b[0m \u001b[0mwashold\u001b[0m\u001b[1;33m\u001b[0m\u001b[0m\n",
      "\u001b[1;32mc:\\anaconda2\\envs\\tensorflow\\lib\\site-packages\\matplotlib\\__init__.py\u001b[0m in \u001b[0;36minner\u001b[1;34m(ax, *args, **kwargs)\u001b[0m\n\u001b[0;32m   1853\u001b[0m                         \u001b[1;34m\"the Matplotlib list!)\"\u001b[0m \u001b[1;33m%\u001b[0m \u001b[1;33m(\u001b[0m\u001b[0mlabel_namer\u001b[0m\u001b[1;33m,\u001b[0m \u001b[0mfunc\u001b[0m\u001b[1;33m.\u001b[0m\u001b[0m__name__\u001b[0m\u001b[1;33m)\u001b[0m\u001b[1;33m,\u001b[0m\u001b[1;33m\u001b[0m\u001b[0m\n\u001b[0;32m   1854\u001b[0m                         RuntimeWarning, stacklevel=2)\n\u001b[1;32m-> 1855\u001b[1;33m             \u001b[1;32mreturn\u001b[0m \u001b[0mfunc\u001b[0m\u001b[1;33m(\u001b[0m\u001b[0max\u001b[0m\u001b[1;33m,\u001b[0m \u001b[1;33m*\u001b[0m\u001b[0margs\u001b[0m\u001b[1;33m,\u001b[0m \u001b[1;33m**\u001b[0m\u001b[0mkwargs\u001b[0m\u001b[1;33m)\u001b[0m\u001b[1;33m\u001b[0m\u001b[0m\n\u001b[0m\u001b[0;32m   1856\u001b[0m \u001b[1;33m\u001b[0m\u001b[0m\n\u001b[0;32m   1857\u001b[0m         inner.__doc__ = _add_data_doc(inner.__doc__,\n",
      "\u001b[1;32mc:\\anaconda2\\envs\\tensorflow\\lib\\site-packages\\matplotlib\\axes\\_axes.py\u001b[0m in \u001b[0;36mbar\u001b[1;34m(self, *args, **kwargs)\u001b[0m\n\u001b[0;32m   2152\u001b[0m                 \u001b[1;32mbreak\u001b[0m\u001b[1;33m\u001b[0m\u001b[0m\n\u001b[0;32m   2153\u001b[0m         \u001b[1;32melse\u001b[0m\u001b[1;33m:\u001b[0m\u001b[1;33m\u001b[0m\u001b[0m\n\u001b[1;32m-> 2154\u001b[1;33m             \u001b[1;32mraise\u001b[0m \u001b[0mexps\u001b[0m\u001b[1;33m[\u001b[0m\u001b[1;36m0\u001b[0m\u001b[1;33m]\u001b[0m\u001b[1;33m\u001b[0m\u001b[0m\n\u001b[0m\u001b[0;32m   2155\u001b[0m         \u001b[1;31m# if we matched the second-case, then the user passed in\u001b[0m\u001b[1;33m\u001b[0m\u001b[1;33m\u001b[0m\u001b[0m\n\u001b[0;32m   2156\u001b[0m         \u001b[1;31m# left=val as a kwarg which we want to deprecate\u001b[0m\u001b[1;33m\u001b[0m\u001b[1;33m\u001b[0m\u001b[0m\n",
      "\u001b[1;32mc:\\anaconda2\\envs\\tensorflow\\lib\\site-packages\\matplotlib\\axes\\_axes.py\u001b[0m in \u001b[0;36mbar\u001b[1;34m(self, *args, **kwargs)\u001b[0m\n\u001b[0;32m   2144\u001b[0m         \u001b[1;32mfor\u001b[0m \u001b[0mmatcher\u001b[0m \u001b[1;32min\u001b[0m \u001b[0mmatchers\u001b[0m\u001b[1;33m:\u001b[0m\u001b[1;33m\u001b[0m\u001b[0m\n\u001b[0;32m   2145\u001b[0m             \u001b[1;32mtry\u001b[0m\u001b[1;33m:\u001b[0m\u001b[1;33m\u001b[0m\u001b[0m\n\u001b[1;32m-> 2146\u001b[1;33m                 \u001b[0mdp\u001b[0m\u001b[1;33m,\u001b[0m \u001b[0mx\u001b[0m\u001b[1;33m,\u001b[0m \u001b[0mheight\u001b[0m\u001b[1;33m,\u001b[0m \u001b[0mwidth\u001b[0m\u001b[1;33m,\u001b[0m \u001b[0my\u001b[0m\u001b[1;33m,\u001b[0m \u001b[0mkwargs\u001b[0m \u001b[1;33m=\u001b[0m \u001b[0mmatcher\u001b[0m\u001b[1;33m(\u001b[0m\u001b[1;33m*\u001b[0m\u001b[0margs\u001b[0m\u001b[1;33m,\u001b[0m \u001b[1;33m**\u001b[0m\u001b[0mkwargs\u001b[0m\u001b[1;33m)\u001b[0m\u001b[1;33m\u001b[0m\u001b[0m\n\u001b[0m\u001b[0;32m   2147\u001b[0m             \u001b[1;32mexcept\u001b[0m \u001b[0mTypeError\u001b[0m \u001b[1;32mas\u001b[0m \u001b[0me\u001b[0m\u001b[1;33m:\u001b[0m\u001b[1;33m\u001b[0m\u001b[0m\n\u001b[0;32m   2148\u001b[0m                 \u001b[1;31m# This can only come from a no-match as there is\u001b[0m\u001b[1;33m\u001b[0m\u001b[1;33m\u001b[0m\u001b[0m\n",
      "\u001b[1;31mTypeError\u001b[0m: <lambda>() missing 1 required positional argument: 'height'"
     ]
    },
    {
     "data": {
      "image/png": "[encoded data removed]",
      "text/plain": [
       "<Figure size 432x288 with 1 Axes>"
      ]
     },
     "metadata": {},
     "output_type": "display_data"
    }
   ],
   "source": []
  },
  {
   "cell_type": "code",
   "execution_count": null,
   "metadata": {},
   "outputs": [],
   "source": []
  }
 ],
 "metadata": {
  "kernelspec": {
   "display_name": "Python 3",
   "language": "python",
   "name": "python3"
  },
  "language_info": {
   "codemirror_mode": {
    "name": "ipython",
    "version": 3
   },
   "file_extension": ".py",
   "mimetype": "text/x-python",
   "name": "python",
   "nbconvert_exporter": "python",
   "pygments_lexer": "ipython3",
   "version": "3.6.4"
  }
 },
 "nbformat": 4,
 "nbformat_minor": 2
}
